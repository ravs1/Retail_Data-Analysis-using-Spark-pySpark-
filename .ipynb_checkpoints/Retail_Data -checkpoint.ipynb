{
 "cells": [
  {
   "cell_type": "markdown",
   "metadata": {},
   "source": [
    "# Retail Data Analysis "
   ]
  },
  {
   "cell_type": "markdown",
   "metadata": {},
   "source": [
    "### Analyze the Retail Purchase Data set "
   ]
  },
  {
   "cell_type": "markdown",
   "metadata": {},
   "source": [
    "#### Calculating three KPIs in this mini project - \n",
    "#### 1. Calculate sales breakdown by product category across all of the stores.\n",
    "#### 2. Calculate sales breakdown by store across all of the stores. Assume there is one store per city \n"
   ]
  },
  {
   "cell_type": "markdown",
   "metadata": {},
   "source": [
    "## 1. Calculate sales breakdown by product category across all of the stores.\n",
    "#### There are 18 types of product categories and we have to find the total sale values in all the product categories."
   ]
  },
  {
   "cell_type": "code",
   "execution_count": 1,
   "metadata": {
    "collapsed": true
   },
   "outputs": [],
   "source": [
    "#import libraries to run spark \n",
    "import findspark\n",
    "findspark.init()\n",
    "import pyspark\n",
    "import random\n",
    "import re,string\n",
    "import pandas as pd"
   ]
  },
  {
   "cell_type": "code",
   "execution_count": 2,
   "metadata": {
    "collapsed": true
   },
   "outputs": [],
   "source": [
    "#Running spark local \n",
    "from pyspark import  SparkContext\n",
    "sc = SparkContext( 'local', 'pyspark')"
   ]
  },
  {
   "cell_type": "code",
   "execution_count": 3,
   "metadata": {
    "collapsed": true
   },
   "outputs": [],
   "source": [
    "#Loading the data \n",
    "#this is our base RDD\n",
    "data = sc.textFile(\"/Users/ravishaggarwal/Desktop/scala_proj/retail/Retail_Sample_Data_Set.csv\")"
   ]
  },
  {
   "cell_type": "code",
   "execution_count": 4,
   "metadata": {},
   "outputs": [
    {
     "data": {
      "text/plain": [
       "[\"2012-01-01\\t09:00\\tSan Jose\\tMen's Clothing\\t214.05\\tAmex\",\n",
       " \"2012-01-01\\t09:00\\tFort Worth\\tWomen's Clothing\\t153.57\\tVisa\",\n",
       " '2012-01-01\\t09:00\\tSan Diego\\tMusic\\t66.08\\tCash',\n",
       " '2012-01-01\\t09:00\\tPittsburgh\\tPet Supplies\\t493.51\\tDiscover',\n",
       " \"2012-01-01\\t09:00\\tOmaha\\tChildren's Clothing\\t235.63\\tMasterCard\"]"
      ]
     },
     "execution_count": 4,
     "metadata": {},
     "output_type": "execute_result"
    }
   ],
   "source": [
    "#Checking first 5 values of the data \n",
    "#data contains the fileds-> Date,Time,City,Product_Category, Sale-Value,Payment-Mode \n",
    "data.take(5)"
   ]
  },
  {
   "cell_type": "code",
   "execution_count": 5,
   "metadata": {
    "collapsed": true
   },
   "outputs": [],
   "source": [
    "#Transformation\n",
    "#tab-splitting the data \n",
    "first_transformed_RDD = data.map(lambda x:x.split(\"\\t\"))\n"
   ]
  },
  {
   "cell_type": "code",
   "execution_count": 6,
   "metadata": {
    "collapsed": true
   },
   "outputs": [],
   "source": [
    "#Second-Transformation\n",
    "#Since in our data the Product-Category is on 4th Column and Sale-Value is on 5th Column \n",
    "#fetching the Product-Categories and Sale-value from their respective column in this RDD \n",
    "\n",
    "\n",
    "second_transformed_RDD = first_transformed_RDD.map(lambda x: (x[3],float(x[4])))\n",
    "\n",
    "#second_transformed_RDD = first_transformed_RDD .withColumn(\"Product-Cat\",first_transformed_RDD [\"Sale-Value\"].cast(DoubleType().alias(\"Sale-Value\"))"
   ]
  },
  {
   "cell_type": "code",
   "execution_count": 7,
   "metadata": {},
   "outputs": [
    {
     "data": {
      "text/plain": [
       "[(\"Men's Clothing\", 214.05),\n",
       " (\"Women's Clothing\", 153.57),\n",
       " ('Music', 66.08),\n",
       " ('Pet Supplies', 493.51),\n",
       " (\"Children's Clothing\", 235.63)]"
      ]
     },
     "execution_count": 7,
     "metadata": {},
     "output_type": "execute_result"
    }
   ],
   "source": [
    "#Showcasing the Product Categories and their Sale-values \n",
    "second_transformed_RDD.take(5)"
   ]
  },
  {
   "cell_type": "code",
   "execution_count": 8,
   "metadata": {},
   "outputs": [
    {
     "data": {
      "text/plain": [
       "[(\"Men's Clothing\", 4030.8899999999994),\n",
       " (\"Women's Clothing\", 3736.869999999999),\n",
       " ('Music', 2396.4),\n",
       " ('Pet Supplies', 2660.83),\n",
       " (\"Children's Clothing\", 2778.21),\n",
       " ('Cameras', 2591.27),\n",
       " ('Consumer Electronics', 2963.59),\n",
       " ('Toys', 3188.18),\n",
       " ('Video Games', 2573.3799999999997),\n",
       " ('DVDs', 2831.0),\n",
       " ('Garden', 1882.25),\n",
       " ('Baby', 2034.23),\n",
       " ('Books', 3492.7999999999997),\n",
       " ('Crafts', 3258.09),\n",
       " ('Sporting Goods', 1952.89),\n",
       " ('CDs', 2644.51),\n",
       " ('Computers', 2102.6600000000003),\n",
       " ('Health and Beauty', 2467.32)]"
      ]
     },
     "execution_count": 8,
     "metadata": {},
     "output_type": "execute_result"
    }
   ],
   "source": [
    "#Apply ReducebyKey\n",
    "#Key is the Product-Category\n",
    "#Value is the Sale-Value \n",
    "#Reducing by Key thus for each Key adding all the Values \n",
    "# For each Product-Category adding all the Sale-Value\n",
    "second_transformed_RDD.reduceByKey(lambda x,y: x+y).take(20)\n"
   ]
  },
  {
   "cell_type": "markdown",
   "metadata": {
    "collapsed": true
   },
   "source": [
    "## 2. Calculate sales breakdown by store across all of the stores. Assume there is one store per city\n",
    "\n",
    "#### Here in this KPI we will be finding the Stores across all the cities assuming that there are one store per city."
   ]
  },
  {
   "cell_type": "code",
   "execution_count": 15,
   "metadata": {
    "collapsed": true
   },
   "outputs": [],
   "source": [
    "#Third-Transformation\n",
    "#Since in our data the City  is on 3rd Column and Sale-Value is on 5th Column \n",
    "#fetching the City and Sale-value from their respective column in this RDD\n",
    "#We are fetching city because we are assuming that there is only one store in each city.\n",
    "\n",
    "\n",
    "third_transformed_RDD = first_transformed_RDD.map(lambda x: (x[2],float(x[4])))\n",
    "\n"
   ]
  },
  {
   "cell_type": "code",
   "execution_count": 16,
   "metadata": {},
   "outputs": [
    {
     "data": {
      "text/plain": [
       "[('San Jose', 214.05),\n",
       " ('Fort Worth', 153.57),\n",
       " ('San Diego', 66.08),\n",
       " ('Pittsburgh', 493.51),\n",
       " ('Omaha', 235.63),\n",
       " ('Stockton', 247.18),\n",
       " ('Austin', 379.6),\n",
       " ('New York', 296.8),\n",
       " ('Corpus Christi', 25.38),\n",
       " ('Fort Worth', 213.88),\n",
       " ('Las Vegas', 53.26),\n",
       " ('Newark', 39.75),\n",
       " ('Austin', 469.63),\n",
       " ('Greensboro', 290.82),\n",
       " ('San Francisco', 260.65),\n",
       " ('Lincoln', 136.9),\n",
       " ('Buffalo', 483.82),\n",
       " ('San Jose', 215.82),\n",
       " ('Boston', 418.94),\n",
       " ('Houston', 309.16),\n",
       " ('Las Vegas', 93.39),\n",
       " ('Virginia Beach', 376.11),\n",
       " ('Riverside', 252.88),\n",
       " ('Tulsa', 205.06),\n",
       " ('Reno', 88.25),\n",
       " ('Chicago', 31.08),\n",
       " ('Fort Wayne', 370.55),\n",
       " ('San Bernardino', 170.2),\n",
       " ('Madison', 16.78),\n",
       " ('Austin', 327.75)]"
      ]
     },
     "execution_count": 16,
     "metadata": {},
     "output_type": "execute_result"
    }
   ],
   "source": [
    "#Showcasing the Store locations  and their Sale-values \n",
    "third_transformed_RDD.take(30)"
   ]
  },
  {
   "cell_type": "code",
   "execution_count": 17,
   "metadata": {},
   "outputs": [
    {
     "data": {
      "text/plain": [
       "[('San Jose', 429.87),\n",
       " ('Fort Worth', 1128.1399999999999),\n",
       " ('San Diego', 448.92),\n",
       " ('Pittsburgh', 1271.35),\n",
       " ('Omaha', 1811.89),\n",
       " ('Stockton', 247.18),\n",
       " ('Austin', 1787.88),\n",
       " ('New York', 468.90999999999997),\n",
       " ('Corpus Christi', 25.38),\n",
       " ('Las Vegas', 146.65),\n",
       " ('Newark', 39.75),\n",
       " ('Greensboro', 749.73),\n",
       " ('San Francisco', 260.65),\n",
       " ('Lincoln', 712.77),\n",
       " ('Buffalo', 483.82),\n",
       " ('Boston', 1114.54),\n",
       " ('Houston', 1101.95),\n",
       " ('Virginia Beach', 647.6700000000001),\n",
       " ('Riverside', 1106.01),\n",
       " ('Tulsa', 431.95)]"
      ]
     },
     "execution_count": 17,
     "metadata": {},
     "output_type": "execute_result"
    }
   ],
   "source": [
    "#Apply ReducebyKey\n",
    "#Key is the City\n",
    "#Value is the Sale-Value \n",
    "#Reducing by Key thus for each Key adding all the Values \n",
    "# For each City adding all the Sale-Value\n",
    "third_transformed_RDD.reduceByKey(lambda x,y: x+y).take(20)\n",
    "\n"
   ]
  },
  {
   "cell_type": "code",
   "execution_count": null,
   "metadata": {
    "collapsed": true
   },
   "outputs": [],
   "source": []
  }
 ],
 "metadata": {
  "kernelspec": {
   "display_name": "Python 3",
   "language": "python",
   "name": "python3"
  },
  "language_info": {
   "codemirror_mode": {
    "name": "ipython",
    "version": 3
   },
   "file_extension": ".py",
   "mimetype": "text/x-python",
   "name": "python",
   "nbconvert_exporter": "python",
   "pygments_lexer": "ipython3",
   "version": "3.6.3"
  }
 },
 "nbformat": 4,
 "nbformat_minor": 2
}
